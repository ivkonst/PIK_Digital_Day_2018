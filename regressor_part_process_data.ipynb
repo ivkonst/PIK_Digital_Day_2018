{
 "cells": [
  {
   "cell_type": "markdown",
   "metadata": {},
   "source": [
    "### Part of Features"
   ]
  },
  {
   "cell_type": "markdown",
   "metadata": {},
   "source": [
    "#### Libraries"
   ]
  },
  {
   "cell_type": "code",
   "execution_count": 9,
   "metadata": {
    "scrolled": true
   },
   "outputs": [],
   "source": [
    "from sklearn.model_selection import cross_val_score\n",
    "import numpy as np\n",
    "import pandas as pd\n",
    "from collections import defaultdict\n",
    "from sklearn.model_selection import KFold\n",
    "from sklearn.metrics import mean_squared_error\n",
    "from math import sqrt\n",
    "from catboost import CatBoostRegressor, Pool\n",
    "import pickle\n",
    "\n",
    "pd.set_option('display.max_columns', 500)"
   ]
  },
  {
   "cell_type": "markdown",
   "metadata": {},
   "source": [
    "#### Load Data"
   ]
  },
  {
   "cell_type": "code",
   "execution_count": 2,
   "metadata": {},
   "outputs": [],
   "source": [
    "data_dir = '/Users/konstantinivanov/Documents/work/PIK/files-pik_digital_day'\n",
    "input_dir = '/Users/konstantinivanov/Documents/work/PIK/input'\n",
    "output_dir = '/Users/konstantinivanov/Documents/work/PIK/output'\n",
    "sub_dir = '/Users/konstantinivanov/Documents/work/PIK/sub'"
   ]
  },
  {
   "cell_type": "code",
   "execution_count": 3,
   "metadata": {},
   "outputs": [],
   "source": [
    "#train\n",
    "train_data = pd.read_csv(data_dir + \"/train.csv\")\n",
    "train_data.drop(['start_square', 'plan_s', 'plan_m', 'plan_l', 'vid_0', 'vid_1', 'vid_2'], axis=1, inplace=True)\n",
    "train_data.to_csv(input_dir + \"/train_full.csv\", index=False)\n",
    "\n",
    "#test\n",
    "test_data = pd.read_csv(data_dir + \"/test.csv\")\n",
    "test_data['value'] = 0\n",
    "test_data.to_csv(input_dir + \"/test_.csv\", index=False, columns = train_data.columns)"
   ]
  },
  {
   "cell_type": "markdown",
   "metadata": {},
   "source": [
    "#### Validation"
   ]
  },
  {
   "cell_type": "code",
   "execution_count": 4,
   "metadata": {},
   "outputs": [
    {
     "name": "stdout",
     "output_type": "stream",
     "text": [
      "KFold(n_splits=20, random_state=42, shuffle=True)\n"
     ]
    }
   ],
   "source": [
    "train_data = pd.read_csv(input_dir + \"/train_full.csv\")\n",
    "\n",
    "K = 20\n",
    "\n",
    "kf = KFold(n_splits=K, random_state=42, shuffle=True)\n",
    "kf.get_n_splits(range(len(train_data)))\n",
    "\n",
    "print(kf)  \n",
    "\n",
    "for i, (train_index, valid_index) in enumerate(kf.split(range(len(train_data)))):\n",
    "    train = train_data.loc[train_index]\n",
    "    valid = train_data.loc[valid_index]\n",
    "\n",
    "    train.to_csv(input_dir + f\"/train_{i}.csv\",index=False)\n",
    "    valid.to_csv(input_dir + f\"/valid_{i}.csv\",index=False)"
   ]
  },
  {
   "cell_type": "markdown",
   "metadata": {},
   "source": [
    "#### Fit and Predict"
   ]
  },
  {
   "cell_type": "code",
   "execution_count": 6,
   "metadata": {},
   "outputs": [],
   "source": [
    "TEST_FILE = input_dir + '/test_.csv' #add\n",
    "CD_FILE = input_dir + '/train_part_feat.txt'\n",
    "\n",
    "test_pool = Pool(TEST_FILE, column_description=CD_FILE, has_header=True, delimiter=\",\")"
   ]
  },
  {
   "cell_type": "code",
   "execution_count": 7,
   "metadata": {},
   "outputs": [],
   "source": [
    "test_data = pd.read_csv(TEST_FILE)"
   ]
  },
  {
   "cell_type": "code",
   "execution_count": 8,
   "metadata": {},
   "outputs": [],
   "source": [
    "iterations = 5000\n",
    "learning_rate = 0.05\n",
    "depth = 8\n",
    "random_seed = 42\n",
    "\n",
    "Regressors = [\n",
    "    CatBoostRegressor(iterations=iterations, learning_rate=learning_rate, depth=depth, random_seed=random_seed)\n",
    "]"
   ]
  },
  {
   "cell_type": "code",
   "execution_count": 10,
   "metadata": {},
   "outputs": [],
   "source": [
    "def FitOnKFolds(model):\n",
    "    cum_y_test = np.zeros((len(test_data), 1))\n",
    "    pred_y_train = np.zeros((len(train_data), 1))\n",
    "    \n",
    "    for i in range(K):\n",
    "        TRAIN_FILE = input_dir + f'/train_{i}.csv'\n",
    "        VAL_FILE = input_dir + f'/valid_{i}.csv'\n",
    "        \n",
    "        train_pool = Pool(TRAIN_FILE, column_description=CD_FILE, has_header=True, delimiter=\",\")\n",
    "        val_pool = Pool(VAL_FILE, column_description=CD_FILE, has_header=True, delimiter=\",\")\n",
    "        \n",
    "        model.fit(train_pool, eval_set = val_pool)\n",
    "        pickle.dump(model, open(input_dir + f'mod_part_feat_{i}.sav', 'wb'))\n",
    "        \n",
    "        pred = model.predict(test_pool)\n",
    "        cum_y_test += pred.reshape((len(test_data),1))\n",
    "        \n",
    "        pred = model.predict(val_pool)\n",
    "        df = pd.read_csv(VAL_FILE)\n",
    "        pred_y_train[df.id] = pred.reshape((len(df),1))\n",
    "        \n",
    "    return (cum_y_test/K).clip(int(min(train_data.value)), int(max(train_data.value))).reshape(-1),\\\n",
    "        sqrt(mean_squared_error(list(train_data['value']), list(pred_y_train)))"
   ]
  },
  {
   "cell_type": "code",
   "execution_count": null,
   "metadata": {},
   "outputs": [],
   "source": [
    "def write_ans(fl_name, y_test):\n",
    "    dict_ans = defaultdict(list)\n",
    "    dict_ans['id'] = list(range(len(y_test)))\n",
    "    dict_ans['value'] = list(y_test)\n",
    "    df_ans = pd.DataFrame.from_dict(dict_ans)\n",
    "    df_ans.to_csv(sub_dir+'/'+fl_name+'.csv', index=False)\n",
    "    return 'Answer /%s succesfully writed' % fl_name"
   ]
  },
  {
   "cell_type": "code",
   "execution_count": null,
   "metadata": {},
   "outputs": [],
   "source": [
    "%%time\n",
    "\n",
    "vec_qual = []\n",
    "\n",
    "for itr, model in enumerate(Regressors):\n",
    "    y_test, qual = FitOnKFolds(model)\n",
    "    vec_qual.append(qual)\n",
    "    write_ans(f'subsub_ctb_itr={iterations}_lr={learning_rate}_depth={depth}_fld={K}_{itr}vers', y_test)"
   ]
  },
  {
   "cell_type": "code",
   "execution_count": null,
   "metadata": {},
   "outputs": [],
   "source": [
    "print(vec_qual)\n",
    "#model = pickle.load(open(input_dir + f'mod_part_feat_{i}.sav', 'rb'))"
   ]
  }
 ],
 "metadata": {
  "kernelspec": {
   "display_name": "Python 3",
   "language": "python",
   "name": "python3"
  },
  "language_info": {
   "codemirror_mode": {
    "name": "ipython",
    "version": 3
   },
   "file_extension": ".py",
   "mimetype": "text/x-python",
   "name": "python",
   "nbconvert_exporter": "python",
   "pygments_lexer": "ipython3",
   "version": "3.6.4"
  }
 },
 "nbformat": 4,
 "nbformat_minor": 2
}
